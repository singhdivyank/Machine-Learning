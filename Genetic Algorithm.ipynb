{
 "cells": [
  {
   "cell_type": "code",
   "execution_count": 1,
   "metadata": {},
   "outputs": [],
   "source": [
    "import numpy as np\n",
    "import ga"
   ]
  },
  {
   "cell_type": "code",
   "execution_count": 2,
   "metadata": {},
   "outputs": [],
   "source": [
    "# number of inputs\n",
    "num_weights = 6\n",
    "\n",
    "# inputs of equation\n",
    "equation_inputs = [4, -2, 3.5, 5, -11, -4.7]"
   ]
  },
  {
   "cell_type": "markdown",
   "metadata": {},
   "source": [
    "# Define initial population"
   ]
  },
  {
   "cell_type": "code",
   "execution_count": 4,
   "metadata": {},
   "outputs": [],
   "source": [
    "sol_per_pop = 8\n",
    "\n",
    "# Defining the population size\n",
    "pop_size = (sol_per_pop, num_weights)\n",
    "\n",
    "#Creating the initial population\n",
    "new_population = np.random.uniform(low = -4.0, high = 4.0, size = pop_size)"
   ]
  },
  {
   "cell_type": "code",
   "execution_count": 5,
   "metadata": {},
   "outputs": [
    {
     "data": {
      "text/plain": [
       "array([[-0.80611263,  1.94203754,  2.12663483, -2.97368121,  2.16395438,\n",
       "        -3.99215985],\n",
       "       [ 2.08608259, -3.02984568, -3.63445978,  2.32607185, -2.39922465,\n",
       "         1.03083398],\n",
       "       [-0.2793679 , -2.31500054,  0.79961026, -2.60613403, -1.56523361,\n",
       "        -1.43585338],\n",
       "       [ 3.45466192,  2.63320023,  2.86787453, -3.61948985,  3.37967859,\n",
       "         1.01416228],\n",
       "       [-1.31316463, -1.90976262,  0.89149982,  0.96564561,  1.96284596,\n",
       "         2.25901392],\n",
       "       [-0.96867694,  0.95980015, -0.27594135,  2.16151131,  0.92472467,\n",
       "         1.93376489],\n",
       "       [-0.4634262 , -2.71867313,  1.77632277,  2.17820936,  1.19387167,\n",
       "         3.79236785],\n",
       "       [ 2.65643004,  3.9187188 , -3.81059066,  2.50581262,  3.45742874,\n",
       "         2.5300296 ]])"
      ]
     },
     "execution_count": 5,
     "metadata": {},
     "output_type": "execute_result"
    }
   ],
   "source": [
    "new_population"
   ]
  },
  {
   "cell_type": "markdown",
   "metadata": {},
   "source": [
    "# Selecting best individuals\n",
    "\n",
    "1. Based on fitness function, select individuals from current population as parents for mating\n",
    "\n",
    "2. Applying GA variants - crossover and mutation to produce offsprings\n",
    "\n",
    "3. Appending both parents and offsprings for next population"
   ]
  },
  {
   "cell_type": "code",
   "execution_count": 12,
   "metadata": {},
   "outputs": [],
   "source": [
    "def cal_pop_fitness(equation_inputs, pop):\n",
    "    # Calculating the fitness value of each solution in the current population.\n",
    "    fitness = np.sum(pop*equation_inputs, axis = 1)\n",
    "    \n",
    "    return fitness"
   ]
  },
  {
   "cell_type": "code",
   "execution_count": 14,
   "metadata": {},
   "outputs": [],
   "source": [
    "def select_mating_pool(pop, fitness, num_parents):\n",
    "\n",
    "    # Selecting the best individuals in the current generation as parents for producing the offspring of the next generation.\n",
    "    parents = np.empty((num_parents, pop.shape[1]))\n",
    "\n",
    "    for parent_num in range(num_parents):\n",
    "        max_fitness_idx = np.where(fitness == np.max(fitness))\n",
    "        max_fitness_idx = max_fitness_idx[0][0]\n",
    "        parents[parent_num, :] = pop[max_fitness_idx, :]\n",
    "        fitness[max_fitness_idx] = -99999999999\n",
    "\n",
    "    return parents"
   ]
  },
  {
   "cell_type": "code",
   "execution_count": 25,
   "metadata": {},
   "outputs": [],
   "source": [
    "def crossover(parents, offspring_size):\n",
    "    \n",
    "    offspring = np.empty(offspring_size)\n",
    "    \n",
    "    # point of crosover\n",
    "    crossover_point = np.unit8(offspring_size[1]/2)\n",
    "    \n",
    "    for k in range(offspring_size[0]):\n",
    "        # Index of first parent to mate\n",
    "        parent1_idx = k%parents.shape[0]\n",
    "        # Index of second parent to mate\n",
    "        parent2_idx = (k+1)%parents.shape[0]\n",
    "        # new offsprings\n",
    "        offspring[k, 0:crossover_point] = parents[parent1_idx, 0:crossover_point]\n",
    "        # The new offspring will have its second half of its genes taken from the second parent.\n",
    "        offspring[k, crossover_point:] = parents[parent2_idx, crossover_point:]\n",
    "        \n",
    "    return offspring"
   ]
  },
  {
   "cell_type": "code",
   "execution_count": 26,
   "metadata": {},
   "outputs": [],
   "source": [
    "def mutation(offspring_crossover):\n",
    "    # Mutation changes a single gene in each offspring randomly\n",
    "    \n",
    "    for idx in range(offspring_crossover.shape[0]):\n",
    "        \n",
    "        # random value to be added to the gene\n",
    "        random_value = np.random.uniform(-1.0, 1.0, 1)\n",
    "        offspring_crossover[idx, 4] = offspring_crossover[idx, 4] + random_value\n",
    "        \n",
    "    return offspring_crossover"
   ]
  },
  {
   "cell_type": "code",
   "execution_count": 29,
   "metadata": {},
   "outputs": [
    {
     "ename": "AttributeError",
     "evalue": "module 'numpy' has no attribute 'unit8'",
     "output_type": "error",
     "traceback": [
      "\u001b[1;31m---------------------------------------------------------------------------\u001b[0m",
      "\u001b[1;31mAttributeError\u001b[0m                            Traceback (most recent call last)",
      "\u001b[1;32m<ipython-input-29-cd6cb2891815>\u001b[0m in \u001b[0;36m<module>\u001b[1;34m\u001b[0m\n\u001b[0;32m     11\u001b[0m \u001b[1;33m\u001b[0m\u001b[0m\n\u001b[0;32m     12\u001b[0m     \u001b[1;31m# Generating next generation using crossover\u001b[0m\u001b[1;33m\u001b[0m\u001b[1;33m\u001b[0m\u001b[1;33m\u001b[0m\u001b[0m\n\u001b[1;32m---> 13\u001b[1;33m     \u001b[0moffspring_crossover\u001b[0m \u001b[1;33m=\u001b[0m \u001b[0mcrossover\u001b[0m\u001b[1;33m(\u001b[0m\u001b[0mparents\u001b[0m\u001b[1;33m,\u001b[0m \u001b[0moffspring_size\u001b[0m \u001b[1;33m=\u001b[0m \u001b[1;33m(\u001b[0m\u001b[0mpop_size\u001b[0m\u001b[1;33m[\u001b[0m\u001b[1;36m0\u001b[0m\u001b[1;33m]\u001b[0m\u001b[1;33m-\u001b[0m\u001b[0mparents\u001b[0m\u001b[1;33m.\u001b[0m\u001b[0mshape\u001b[0m\u001b[1;33m[\u001b[0m\u001b[1;36m0\u001b[0m\u001b[1;33m]\u001b[0m\u001b[1;33m,\u001b[0m \u001b[0mnum_weights\u001b[0m\u001b[1;33m)\u001b[0m\u001b[1;33m)\u001b[0m\u001b[1;33m\u001b[0m\u001b[1;33m\u001b[0m\u001b[0m\n\u001b[0m\u001b[0;32m     14\u001b[0m \u001b[1;33m\u001b[0m\u001b[0m\n\u001b[0;32m     15\u001b[0m     \u001b[1;31m# Adding some variations to the offsrping using mutation\u001b[0m\u001b[1;33m\u001b[0m\u001b[1;33m\u001b[0m\u001b[1;33m\u001b[0m\u001b[0m\n",
      "\u001b[1;32m<ipython-input-25-58dd8e7f491b>\u001b[0m in \u001b[0;36mcrossover\u001b[1;34m(parents, offspring_size)\u001b[0m\n\u001b[0;32m      4\u001b[0m \u001b[1;33m\u001b[0m\u001b[0m\n\u001b[0;32m      5\u001b[0m     \u001b[1;31m# point of crosover\u001b[0m\u001b[1;33m\u001b[0m\u001b[1;33m\u001b[0m\u001b[1;33m\u001b[0m\u001b[0m\n\u001b[1;32m----> 6\u001b[1;33m     \u001b[0mcrossover_point\u001b[0m \u001b[1;33m=\u001b[0m \u001b[0mnp\u001b[0m\u001b[1;33m.\u001b[0m\u001b[0munit8\u001b[0m\u001b[1;33m(\u001b[0m\u001b[0moffspring_size\u001b[0m\u001b[1;33m[\u001b[0m\u001b[1;36m1\u001b[0m\u001b[1;33m]\u001b[0m\u001b[1;33m/\u001b[0m\u001b[1;36m2\u001b[0m\u001b[1;33m)\u001b[0m\u001b[1;33m\u001b[0m\u001b[1;33m\u001b[0m\u001b[0m\n\u001b[0m\u001b[0;32m      7\u001b[0m \u001b[1;33m\u001b[0m\u001b[0m\n\u001b[0;32m      8\u001b[0m     \u001b[1;32mfor\u001b[0m \u001b[0mk\u001b[0m \u001b[1;32min\u001b[0m \u001b[0mrange\u001b[0m\u001b[1;33m(\u001b[0m\u001b[0moffspring_size\u001b[0m\u001b[1;33m[\u001b[0m\u001b[1;36m0\u001b[0m\u001b[1;33m]\u001b[0m\u001b[1;33m)\u001b[0m\u001b[1;33m:\u001b[0m\u001b[1;33m\u001b[0m\u001b[1;33m\u001b[0m\u001b[0m\n",
      "\u001b[1;31mAttributeError\u001b[0m: module 'numpy' has no attribute 'unit8'"
     ]
    }
   ],
   "source": [
    "num_generations = 5\n",
    "num_parents_mating = 4\n",
    "\n",
    "for generation in range(num_generations):\n",
    "    \n",
    "    # Measuring the fitness of each chromosome in the population\n",
    "    fitness = cal_pop_fitness(equation_inputs, new_population)\n",
    "    \n",
    "    # Selecting the best parents in the population for mating\n",
    "    parents = select_mating_pool(new_population, fitness, num_parents_mating)\n",
    "    \n",
    "    # Generating next generation using crossover\n",
    "    offspring_crossover = crossover(parents, offspring_size = (pop_size[0]-parents.shape[0], num_weights))\n",
    "    \n",
    "    # Adding some variations to the offsrping using mutation\n",
    "    offspring_mutation = mutation(offspring_crossover)\n",
    "    \n",
    "    # Creating the new population based on the parents and offspring\n",
    "    new_population[0:parents.shape[0], :] = parents\n",
    "    new_population[parents.shape[0]:, :] = offspring_mutation"
   ]
  }
 ],
 "metadata": {
  "kernelspec": {
   "display_name": "Python 3",
   "language": "python",
   "name": "python3"
  },
  "language_info": {
   "codemirror_mode": {
    "name": "ipython",
    "version": 3
   },
   "file_extension": ".py",
   "mimetype": "text/x-python",
   "name": "python",
   "nbconvert_exporter": "python",
   "pygments_lexer": "ipython3",
   "version": "3.7.3"
  }
 },
 "nbformat": 4,
 "nbformat_minor": 2
}
