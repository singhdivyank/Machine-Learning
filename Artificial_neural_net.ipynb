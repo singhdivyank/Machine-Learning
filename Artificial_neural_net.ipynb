{
 "cells": [
  {
   "cell_type": "markdown",
   "metadata": {},
   "source": [
    "In this notebook an **artificial neural network** has been developed on Churn_modelling dataset and breast cancer winscosin data"
   ]
  },
  {
   "cell_type": "code",
   "execution_count": 1,
   "metadata": {},
   "outputs": [],
   "source": [
    "import itertools\n",
    "import matplotlib.pyplot as plt\n",
    "import numpy as np\n",
    "import pandas as pd\n",
    "import tensorflow as tf\n",
    "\n",
    "from sklearn.compose import ColumnTransformer\n",
    "from sklearn.model_selection import train_test_split\n",
    "from sklearn.metrics import accuracy_score, confusion_matrix\n",
    "from sklearn.preprocessing import LabelEncoder, OneHotEncoder, StandardScaler"
   ]
  },
  {
   "cell_type": "code",
   "execution_count": 2,
   "metadata": {},
   "outputs": [],
   "source": [
    "# for confusion matrix\n",
    "\n",
    "def plot_confusion_matrix(cm, classes, normalize = False, title='Confusion matrix', cmap = plt.cm.Blues):\n",
    "    \n",
    "    \"\"\"\n",
    "    This function prints and plots the confusion matrix.\n",
    "    Normalization can be applied by setting `normalize=True`.\n",
    "    \"\"\"\n",
    "    \n",
    "    if normalize:\n",
    "        cm = cm.astype('float') / cm.sum(axis=1)[:, np.newaxis]\n",
    "        print(\"Normalized confusion matrix\")\n",
    "    else:\n",
    "        print('Confusion matrix, without normalization')\n",
    "\n",
    "    print(cm)\n",
    "\n",
    "    plt.imshow(cm, interpolation='nearest', cmap=cmap)\n",
    "    plt.title(title)\n",
    "    plt.colorbar()\n",
    "    tick_marks = np.arange(len(classes))\n",
    "    plt.xticks(tick_marks, classes)\n",
    "    plt.yticks(tick_marks, classes)\n",
    "\n",
    "    fmt = '.2f' if normalize else 'd'\n",
    "    thresh = cm.max() / 2.\n",
    "    for i, j in itertools.product(range(cm.shape[0]), range(cm.shape[1])):\n",
    "        plt.text(j, i, format(cm[i, j], fmt), horizontalalignment = \"center\", \n",
    "                 color = \"white\" if cm[i, j] > thresh else \"black\")\n",
    "\n",
    "    plt.ylabel('True label')\n",
    "    plt.xlabel('Predicted label')\n",
    "    plt.tight_layout()"
   ]
  },
  {
   "cell_type": "markdown",
   "metadata": {},
   "source": [
    "**Churn_modelling** dataset\n",
    "\n",
    "# Data Preprocessing"
   ]
  },
  {
   "cell_type": "code",
   "execution_count": 3,
   "metadata": {},
   "outputs": [
    {
     "data": {
      "text/html": [
       "<div>\n",
       "<style scoped>\n",
       "    .dataframe tbody tr th:only-of-type {\n",
       "        vertical-align: middle;\n",
       "    }\n",
       "\n",
       "    .dataframe tbody tr th {\n",
       "        vertical-align: top;\n",
       "    }\n",
       "\n",
       "    .dataframe thead th {\n",
       "        text-align: right;\n",
       "    }\n",
       "</style>\n",
       "<table border=\"1\" class=\"dataframe\">\n",
       "  <thead>\n",
       "    <tr style=\"text-align: right;\">\n",
       "      <th></th>\n",
       "      <th>RowNumber</th>\n",
       "      <th>CustomerId</th>\n",
       "      <th>Surname</th>\n",
       "      <th>CreditScore</th>\n",
       "      <th>Geography</th>\n",
       "      <th>Gender</th>\n",
       "      <th>Age</th>\n",
       "      <th>Tenure</th>\n",
       "      <th>Balance</th>\n",
       "      <th>NumOfProducts</th>\n",
       "      <th>HasCrCard</th>\n",
       "      <th>IsActiveMember</th>\n",
       "      <th>EstimatedSalary</th>\n",
       "      <th>Exited</th>\n",
       "    </tr>\n",
       "  </thead>\n",
       "  <tbody>\n",
       "    <tr>\n",
       "      <th>0</th>\n",
       "      <td>1</td>\n",
       "      <td>15634602</td>\n",
       "      <td>Hargrave</td>\n",
       "      <td>619</td>\n",
       "      <td>France</td>\n",
       "      <td>Female</td>\n",
       "      <td>42</td>\n",
       "      <td>2</td>\n",
       "      <td>0.00</td>\n",
       "      <td>1</td>\n",
       "      <td>1</td>\n",
       "      <td>1</td>\n",
       "      <td>101348.88</td>\n",
       "      <td>1</td>\n",
       "    </tr>\n",
       "    <tr>\n",
       "      <th>1</th>\n",
       "      <td>2</td>\n",
       "      <td>15647311</td>\n",
       "      <td>Hill</td>\n",
       "      <td>608</td>\n",
       "      <td>Spain</td>\n",
       "      <td>Female</td>\n",
       "      <td>41</td>\n",
       "      <td>1</td>\n",
       "      <td>83807.86</td>\n",
       "      <td>1</td>\n",
       "      <td>0</td>\n",
       "      <td>1</td>\n",
       "      <td>112542.58</td>\n",
       "      <td>0</td>\n",
       "    </tr>\n",
       "    <tr>\n",
       "      <th>2</th>\n",
       "      <td>3</td>\n",
       "      <td>15619304</td>\n",
       "      <td>Onio</td>\n",
       "      <td>502</td>\n",
       "      <td>France</td>\n",
       "      <td>Female</td>\n",
       "      <td>42</td>\n",
       "      <td>8</td>\n",
       "      <td>159660.80</td>\n",
       "      <td>3</td>\n",
       "      <td>1</td>\n",
       "      <td>0</td>\n",
       "      <td>113931.57</td>\n",
       "      <td>1</td>\n",
       "    </tr>\n",
       "    <tr>\n",
       "      <th>3</th>\n",
       "      <td>4</td>\n",
       "      <td>15701354</td>\n",
       "      <td>Boni</td>\n",
       "      <td>699</td>\n",
       "      <td>France</td>\n",
       "      <td>Female</td>\n",
       "      <td>39</td>\n",
       "      <td>1</td>\n",
       "      <td>0.00</td>\n",
       "      <td>2</td>\n",
       "      <td>0</td>\n",
       "      <td>0</td>\n",
       "      <td>93826.63</td>\n",
       "      <td>0</td>\n",
       "    </tr>\n",
       "    <tr>\n",
       "      <th>4</th>\n",
       "      <td>5</td>\n",
       "      <td>15737888</td>\n",
       "      <td>Mitchell</td>\n",
       "      <td>850</td>\n",
       "      <td>Spain</td>\n",
       "      <td>Female</td>\n",
       "      <td>43</td>\n",
       "      <td>2</td>\n",
       "      <td>125510.82</td>\n",
       "      <td>1</td>\n",
       "      <td>1</td>\n",
       "      <td>1</td>\n",
       "      <td>79084.10</td>\n",
       "      <td>0</td>\n",
       "    </tr>\n",
       "  </tbody>\n",
       "</table>\n",
       "</div>"
      ],
      "text/plain": [
       "   RowNumber  CustomerId   Surname  CreditScore Geography  Gender  Age  \\\n",
       "0          1    15634602  Hargrave          619    France  Female   42   \n",
       "1          2    15647311      Hill          608     Spain  Female   41   \n",
       "2          3    15619304      Onio          502    France  Female   42   \n",
       "3          4    15701354      Boni          699    France  Female   39   \n",
       "4          5    15737888  Mitchell          850     Spain  Female   43   \n",
       "\n",
       "   Tenure    Balance  NumOfProducts  HasCrCard  IsActiveMember  \\\n",
       "0       2       0.00              1          1               1   \n",
       "1       1   83807.86              1          0               1   \n",
       "2       8  159660.80              3          1               0   \n",
       "3       1       0.00              2          0               0   \n",
       "4       2  125510.82              1          1               1   \n",
       "\n",
       "   EstimatedSalary  Exited  \n",
       "0        101348.88       1  \n",
       "1        112542.58       0  \n",
       "2        113931.57       1  \n",
       "3         93826.63       0  \n",
       "4         79084.10       0  "
      ]
     },
     "execution_count": 3,
     "metadata": {},
     "output_type": "execute_result"
    }
   ],
   "source": [
    "dataset = pd.read_csv(r'E:\\Jupyterfiles\\ML_practice\\Churn_Modelling.csv')\n",
    "dataset.head()"
   ]
  },
  {
   "cell_type": "code",
   "execution_count": 4,
   "metadata": {},
   "outputs": [],
   "source": [
    "X = dataset.iloc[:, 3:-1].values\n",
    "y = dataset.iloc[:, -1].values"
   ]
  },
  {
   "cell_type": "markdown",
   "metadata": {},
   "source": [
    "## Encoding categorical data<br>\n",
    "Label Encoding **Gender** column"
   ]
  },
  {
   "cell_type": "code",
   "execution_count": 5,
   "metadata": {},
   "outputs": [
    {
     "name": "stdout",
     "output_type": "stream",
     "text": [
      "[[619 'France' 0 ... 1 1 101348.88]\n",
      " [608 'Spain' 0 ... 0 1 112542.58]\n",
      " [502 'France' 0 ... 1 0 113931.57]\n",
      " ...\n",
      " [709 'France' 0 ... 0 1 42085.58]\n",
      " [772 'Germany' 1 ... 1 0 92888.52]\n",
      " [792 'France' 0 ... 1 0 38190.78]]\n",
      "[[1.0 0.0 0.0 ... 1 1 101348.88]\n",
      " [0.0 0.0 1.0 ... 0 1 112542.58]\n",
      " [1.0 0.0 0.0 ... 1 0 113931.57]\n",
      " ...\n",
      " [1.0 0.0 0.0 ... 0 1 42085.58]\n",
      " [0.0 1.0 0.0 ... 1 0 92888.52]\n",
      " [1.0 0.0 0.0 ... 1 0 38190.78]]\n"
     ]
    }
   ],
   "source": [
    "le = LabelEncoder()\n",
    "X[:, 2] = le.fit_transform(X[:, 2])\n",
    "print(X)\n",
    "\n",
    "# One Hot Encoding the \"Geography\" column\n",
    "ct = ColumnTransformer(transformers=[('encoder', OneHotEncoder(), [1])], remainder='passthrough')\n",
    "\n",
    "X = np.array(ct.fit_transform(X))\n",
    "print(X)"
   ]
  },
  {
   "cell_type": "markdown",
   "metadata": {},
   "source": [
    "## Feature Scaling"
   ]
  },
  {
   "cell_type": "code",
   "execution_count": 6,
   "metadata": {},
   "outputs": [
    {
     "name": "stdout",
     "output_type": "stream",
     "text": [
      "[[ 0.99720391 -0.57873591 -0.57380915 ...  0.64609167  0.97024255\n",
      "   0.02188649]\n",
      " [-1.00280393 -0.57873591  1.74273971 ... -1.54776799  0.97024255\n",
      "   0.21653375]\n",
      " [ 0.99720391 -0.57873591 -0.57380915 ...  0.64609167 -1.03067011\n",
      "   0.2406869 ]\n",
      " ...\n",
      " [ 0.99720391 -0.57873591 -0.57380915 ... -1.54776799  0.97024255\n",
      "  -1.00864308]\n",
      " [-1.00280393  1.72790383 -0.57380915 ...  0.64609167 -1.03067011\n",
      "  -0.12523071]\n",
      " [ 0.99720391 -0.57873591 -0.57380915 ...  0.64609167 -1.03067011\n",
      "  -1.07636976]]\n"
     ]
    }
   ],
   "source": [
    "sc = StandardScaler()\n",
    "X = sc.fit_transform(X)\n",
    "print(X)"
   ]
  },
  {
   "cell_type": "code",
   "execution_count": 7,
   "metadata": {},
   "outputs": [],
   "source": [
    "X_train, X_test, y_train, y_test = train_test_split(X, y, test_size = 0.2, random_state = 0)"
   ]
  },
  {
   "cell_type": "markdown",
   "metadata": {},
   "source": [
    "# Building the ANN"
   ]
  },
  {
   "cell_type": "code",
   "execution_count": 8,
   "metadata": {},
   "outputs": [],
   "source": [
    "# initializing ANN\n",
    "ann = tf.keras.models.Sequential()"
   ]
  },
  {
   "cell_type": "code",
   "execution_count": 9,
   "metadata": {},
   "outputs": [],
   "source": [
    "# adding input and hidden layer to first layer \n",
    "ann.add(tf.keras.layers.Dense(units=6, activation='relu'))\n",
    "\n",
    "# adding input and hidden layer to second layer\n",
    "ann.add(tf.keras.layers.Dense(units=6, activation='relu'))\n",
    "\n",
    "# output layer\n",
    "ann.add(tf.keras.layers.Dense(units=1, activation='sigmoid'))"
   ]
  },
  {
   "cell_type": "markdown",
   "metadata": {},
   "source": [
    "# Training the ANN"
   ]
  },
  {
   "cell_type": "code",
   "execution_count": 10,
   "metadata": {},
   "outputs": [
    {
     "name": "stdout",
     "output_type": "stream",
     "text": [
      "WARNING:tensorflow:From D:\\Anaconda\\lib\\site-packages\\tensorflow\\python\\ops\\resource_variable_ops.py:435: colocate_with (from tensorflow.python.framework.ops) is deprecated and will be removed in a future version.\n",
      "Instructions for updating:\n",
      "Colocations handled automatically by placer.\n",
      "WARNING:tensorflow:From D:\\Anaconda\\lib\\site-packages\\tensorflow\\python\\ops\\math_ops.py:3066: to_int32 (from tensorflow.python.ops.math_ops) is deprecated and will be removed in a future version.\n",
      "Instructions for updating:\n",
      "Use tf.cast instead.\n",
      "Epoch 1/100\n",
      "8000/8000 [==============================] - 0s 42us/sample - loss: 0.4994 - acc: 0.7946\n",
      "Epoch 2/100\n",
      "8000/8000 [==============================] - 0s 21us/sample - loss: 0.4479 - acc: 0.8108\n",
      "Epoch 3/100\n",
      "8000/8000 [==============================] - 0s 22us/sample - loss: 0.4240 - acc: 0.8216\n",
      "Epoch 4/100\n",
      "8000/8000 [==============================] - 0s 21us/sample - loss: 0.4127 - acc: 0.8239\n",
      "Epoch 5/100\n",
      "8000/8000 [==============================] - 0s 21us/sample - loss: 0.4054 - acc: 0.8248\n",
      "Epoch 6/100\n",
      "8000/8000 [==============================] - 0s 22us/sample - loss: 0.4002 - acc: 0.8284\n",
      "Epoch 7/100\n",
      "8000/8000 [==============================] - 0s 21us/sample - loss: 0.3962 - acc: 0.8286\n",
      "Epoch 8/100\n",
      "8000/8000 [==============================] - 0s 21us/sample - loss: 0.3921 - acc: 0.8295\n",
      "Epoch 9/100\n",
      "8000/8000 [==============================] - 0s 22us/sample - loss: 0.3882 - acc: 0.8304\n",
      "Epoch 10/100\n",
      "8000/8000 [==============================] - 0s 21us/sample - loss: 0.3854 - acc: 0.8303\n",
      "Epoch 11/100\n",
      "8000/8000 [==============================] - 0s 21us/sample - loss: 0.3821 - acc: 0.8306\n",
      "Epoch 12/100\n",
      "8000/8000 [==============================] - 0s 21us/sample - loss: 0.3790 - acc: 0.8316\n",
      "Epoch 13/100\n",
      "8000/8000 [==============================] - 0s 22us/sample - loss: 0.3765 - acc: 0.8314\n",
      "Epoch 14/100\n",
      "8000/8000 [==============================] - 0s 21us/sample - loss: 0.3740 - acc: 0.8300\n",
      "Epoch 15/100\n",
      "8000/8000 [==============================] - 0s 21us/sample - loss: 0.3721 - acc: 0.8411\n",
      "Epoch 16/100\n",
      "8000/8000 [==============================] - 0s 22us/sample - loss: 0.3700 - acc: 0.8450\n",
      "Epoch 17/100\n",
      "8000/8000 [==============================] - 0s 21us/sample - loss: 0.3685 - acc: 0.8464\n",
      "Epoch 18/100\n",
      "8000/8000 [==============================] - 0s 21us/sample - loss: 0.3662 - acc: 0.8494\n",
      "Epoch 19/100\n",
      "8000/8000 [==============================] - 0s 22us/sample - loss: 0.3657 - acc: 0.8487\n",
      "Epoch 20/100\n",
      "8000/8000 [==============================] - 0s 21us/sample - loss: 0.3644 - acc: 0.8499\n",
      "Epoch 21/100\n",
      "8000/8000 [==============================] - 0s 21us/sample - loss: 0.3628 - acc: 0.8495\n",
      "Epoch 22/100\n",
      "8000/8000 [==============================] - 0s 21us/sample - loss: 0.3618 - acc: 0.8515\n",
      "Epoch 23/100\n",
      "8000/8000 [==============================] - 0s 22us/sample - loss: 0.3607 - acc: 0.8506\n",
      "Epoch 24/100\n",
      "8000/8000 [==============================] - 0s 22us/sample - loss: 0.3606 - acc: 0.8505\n",
      "Epoch 25/100\n",
      "8000/8000 [==============================] - 0s 22us/sample - loss: 0.3596 - acc: 0.8512\n",
      "Epoch 26/100\n",
      "8000/8000 [==============================] - 0s 21us/sample - loss: 0.3582 - acc: 0.8518\n",
      "Epoch 27/100\n",
      "8000/8000 [==============================] - 0s 21us/sample - loss: 0.3575 - acc: 0.8518\n",
      "Epoch 28/100\n",
      "8000/8000 [==============================] - 0s 21us/sample - loss: 0.3567 - acc: 0.8534\n",
      "Epoch 29/100\n",
      "8000/8000 [==============================] - 0s 21us/sample - loss: 0.3559 - acc: 0.8535\n",
      "Epoch 30/100\n",
      "8000/8000 [==============================] - 0s 21us/sample - loss: 0.3558 - acc: 0.8553\n",
      "Epoch 31/100\n",
      "8000/8000 [==============================] - 0s 21us/sample - loss: 0.3553 - acc: 0.8539\n",
      "Epoch 32/100\n",
      "8000/8000 [==============================] - 0s 21us/sample - loss: 0.3542 - acc: 0.8550\n",
      "Epoch 33/100\n",
      "8000/8000 [==============================] - 0s 22us/sample - loss: 0.3538 - acc: 0.8558\n",
      "Epoch 34/100\n",
      "8000/8000 [==============================] - 0s 21us/sample - loss: 0.3538 - acc: 0.8551\n",
      "Epoch 35/100\n",
      "8000/8000 [==============================] - 0s 22us/sample - loss: 0.3531 - acc: 0.8539\n",
      "Epoch 36/100\n",
      "8000/8000 [==============================] - 0s 21us/sample - loss: 0.3529 - acc: 0.8551\n",
      "Epoch 37/100\n",
      "8000/8000 [==============================] - 0s 22us/sample - loss: 0.3518 - acc: 0.8562\n",
      "Epoch 38/100\n",
      "8000/8000 [==============================] - 0s 21us/sample - loss: 0.3517 - acc: 0.8574\n",
      "Epoch 39/100\n",
      "8000/8000 [==============================] - 0s 21us/sample - loss: 0.3512 - acc: 0.8579\n",
      "Epoch 40/100\n",
      "8000/8000 [==============================] - 0s 21us/sample - loss: 0.3509 - acc: 0.8571\n",
      "Epoch 41/100\n",
      "8000/8000 [==============================] - 0s 21us/sample - loss: 0.3500 - acc: 0.8601\n",
      "Epoch 42/100\n",
      "8000/8000 [==============================] - 0s 21us/sample - loss: 0.3496 - acc: 0.8593\n",
      "Epoch 43/100\n",
      "8000/8000 [==============================] - 0s 21us/sample - loss: 0.3488 - acc: 0.8586\n",
      "Epoch 44/100\n",
      "8000/8000 [==============================] - 0s 21us/sample - loss: 0.3490 - acc: 0.8589\n",
      "Epoch 45/100\n",
      "8000/8000 [==============================] - 0s 21us/sample - loss: 0.3480 - acc: 0.8583\n",
      "Epoch 46/100\n",
      "8000/8000 [==============================] - 0s 21us/sample - loss: 0.3475 - acc: 0.8595\n",
      "Epoch 47/100\n",
      "8000/8000 [==============================] - 0s 22us/sample - loss: 0.3478 - acc: 0.8597\n",
      "Epoch 48/100\n",
      "8000/8000 [==============================] - 0s 21us/sample - loss: 0.3473 - acc: 0.8608\n",
      "Epoch 49/100\n",
      "8000/8000 [==============================] - ETA: 0s - loss: 0.3500 - acc: 0.860 - 0s 21us/sample - loss: 0.3462 - acc: 0.8625\n",
      "Epoch 50/100\n",
      "8000/8000 [==============================] - 0s 21us/sample - loss: 0.3458 - acc: 0.8593\n",
      "Epoch 51/100\n",
      "8000/8000 [==============================] - 0s 21us/sample - loss: 0.3457 - acc: 0.8621\n",
      "Epoch 52/100\n",
      "8000/8000 [==============================] - 0s 21us/sample - loss: 0.3451 - acc: 0.8621\n",
      "Epoch 53/100\n",
      "8000/8000 [==============================] - 0s 21us/sample - loss: 0.3445 - acc: 0.8629\n",
      "Epoch 54/100\n",
      "8000/8000 [==============================] - 0s 21us/sample - loss: 0.3447 - acc: 0.8615\n",
      "Epoch 55/100\n",
      "8000/8000 [==============================] - 0s 21us/sample - loss: 0.3449 - acc: 0.8629\n",
      "Epoch 56/100\n",
      "8000/8000 [==============================] - 0s 21us/sample - loss: 0.3443 - acc: 0.8614\n",
      "Epoch 57/100\n",
      "8000/8000 [==============================] - 0s 21us/sample - loss: 0.3442 - acc: 0.8606\n",
      "Epoch 58/100\n",
      "8000/8000 [==============================] - 0s 21us/sample - loss: 0.3435 - acc: 0.8622\n",
      "Epoch 59/100\n",
      "8000/8000 [==============================] - 0s 21us/sample - loss: 0.3437 - acc: 0.8631\n",
      "Epoch 60/100\n",
      "8000/8000 [==============================] - 0s 21us/sample - loss: 0.3435 - acc: 0.8627\n",
      "Epoch 61/100\n",
      "8000/8000 [==============================] - 0s 21us/sample - loss: 0.3431 - acc: 0.8637\n",
      "Epoch 62/100\n",
      "8000/8000 [==============================] - 0s 21us/sample - loss: 0.3428 - acc: 0.8629\n",
      "Epoch 63/100\n",
      "8000/8000 [==============================] - 0s 21us/sample - loss: 0.3427 - acc: 0.8627\n",
      "Epoch 64/100\n",
      "8000/8000 [==============================] - 0s 21us/sample - loss: 0.3422 - acc: 0.8645\n",
      "Epoch 65/100\n",
      "8000/8000 [==============================] - 0s 21us/sample - loss: 0.3424 - acc: 0.8614\n",
      "Epoch 66/100\n",
      "8000/8000 [==============================] - 0s 21us/sample - loss: 0.3422 - acc: 0.8614\n",
      "Epoch 67/100\n",
      "8000/8000 [==============================] - 0s 21us/sample - loss: 0.3419 - acc: 0.8635\n",
      "Epoch 68/100\n",
      "8000/8000 [==============================] - 0s 20us/sample - loss: 0.3418 - acc: 0.8644\n",
      "Epoch 69/100\n",
      "8000/8000 [==============================] - 0s 20us/sample - loss: 0.3412 - acc: 0.8637\n",
      "Epoch 70/100\n",
      "8000/8000 [==============================] - 0s 20us/sample - loss: 0.3412 - acc: 0.8629\n",
      "Epoch 71/100\n",
      "8000/8000 [==============================] - 0s 20us/sample - loss: 0.3419 - acc: 0.8621\n",
      "Epoch 72/100\n",
      "8000/8000 [==============================] - 0s 21us/sample - loss: 0.3416 - acc: 0.8611\n",
      "Epoch 73/100\n",
      "8000/8000 [==============================] - 0s 21us/sample - loss: 0.3406 - acc: 0.8640\n",
      "Epoch 74/100\n",
      "8000/8000 [==============================] - 0s 21us/sample - loss: 0.3411 - acc: 0.8609\n",
      "Epoch 75/100\n",
      "8000/8000 [==============================] - 0s 21us/sample - loss: 0.3406 - acc: 0.8637\n",
      "Epoch 76/100\n",
      "8000/8000 [==============================] - 0s 21us/sample - loss: 0.3402 - acc: 0.8644\n",
      "Epoch 77/100\n",
      "8000/8000 [==============================] - 0s 21us/sample - loss: 0.3404 - acc: 0.8634\n",
      "Epoch 78/100\n",
      "8000/8000 [==============================] - 0s 21us/sample - loss: 0.3406 - acc: 0.8634\n",
      "Epoch 79/100\n",
      "8000/8000 [==============================] - 0s 21us/sample - loss: 0.3404 - acc: 0.8633\n",
      "Epoch 80/100\n",
      "8000/8000 [==============================] - 0s 20us/sample - loss: 0.3397 - acc: 0.8637\n",
      "Epoch 81/100\n",
      "8000/8000 [==============================] - 0s 21us/sample - loss: 0.3397 - acc: 0.8625\n",
      "Epoch 82/100\n",
      "8000/8000 [==============================] - 0s 20us/sample - loss: 0.3398 - acc: 0.8629\n",
      "Epoch 83/100\n",
      "8000/8000 [==============================] - 0s 20us/sample - loss: 0.3399 - acc: 0.8650\n",
      "Epoch 84/100\n",
      "8000/8000 [==============================] - 0s 21us/sample - loss: 0.3396 - acc: 0.8629\n",
      "Epoch 85/100\n",
      "8000/8000 [==============================] - 0s 21us/sample - loss: 0.3395 - acc: 0.8631\n",
      "Epoch 86/100\n",
      "8000/8000 [==============================] - 0s 22us/sample - loss: 0.3397 - acc: 0.8637\n",
      "Epoch 87/100\n",
      "8000/8000 [==============================] - 0s 21us/sample - loss: 0.3393 - acc: 0.8621\n",
      "Epoch 88/100\n",
      "8000/8000 [==============================] - 0s 20us/sample - loss: 0.3391 - acc: 0.8639\n",
      "Epoch 89/100\n",
      "8000/8000 [==============================] - 0s 21us/sample - loss: 0.3396 - acc: 0.8630\n",
      "Epoch 90/100\n",
      "8000/8000 [==============================] - 0s 22us/sample - loss: 0.3388 - acc: 0.8635\n",
      "Epoch 91/100\n",
      "8000/8000 [==============================] - 0s 21us/sample - loss: 0.3390 - acc: 0.8635\n",
      "Epoch 92/100\n",
      "8000/8000 [==============================] - 0s 21us/sample - loss: 0.3385 - acc: 0.8635\n",
      "Epoch 93/100\n",
      "8000/8000 [==============================] - 0s 20us/sample - loss: 0.3386 - acc: 0.8646\n",
      "Epoch 94/100\n",
      "8000/8000 [==============================] - 0s 20us/sample - loss: 0.3392 - acc: 0.8645\n",
      "Epoch 95/100\n",
      "8000/8000 [==============================] - 0s 21us/sample - loss: 0.3394 - acc: 0.8627\n",
      "Epoch 96/100\n",
      "8000/8000 [==============================] - 0s 21us/sample - loss: 0.3388 - acc: 0.8644\n",
      "Epoch 97/100\n",
      "8000/8000 [==============================] - 0s 21us/sample - loss: 0.3385 - acc: 0.8637\n",
      "Epoch 98/100\n",
      "8000/8000 [==============================] - 0s 21us/sample - loss: 0.3385 - acc: 0.8620\n",
      "Epoch 99/100\n",
      "8000/8000 [==============================] - 0s 21us/sample - loss: 0.3392 - acc: 0.8639\n",
      "Epoch 100/100\n",
      "8000/8000 [==============================] - 0s 21us/sample - loss: 0.3384 - acc: 0.8646\n"
     ]
    },
    {
     "data": {
      "text/plain": [
       "<tensorflow.python.keras.callbacks.History at 0x17cdb7d3e10>"
      ]
     },
     "execution_count": 10,
     "metadata": {},
     "output_type": "execute_result"
    }
   ],
   "source": [
    "ann.compile(optimizer = 'adam', loss = 'binary_crossentropy', metrics = ['accuracy']) # compiling\n",
    "\n",
    "ann.fit(X_train, y_train, batch_size = 32, epochs = 100) # train ANN"
   ]
  },
  {
   "cell_type": "markdown",
   "metadata": {},
   "source": [
    "## Making prediction"
   ]
  },
  {
   "cell_type": "code",
   "execution_count": 11,
   "metadata": {},
   "outputs": [
    {
     "name": "stdout",
     "output_type": "stream",
     "text": [
      "[[0 0]\n",
      " [0 1]\n",
      " [0 0]\n",
      " ...\n",
      " [0 0]\n",
      " [0 0]\n",
      " [0 0]]\n"
     ]
    }
   ],
   "source": [
    "y_pred = ann.predict(X_test)\n",
    "y_pred = (y_pred > 0.5)\n",
    "print(np.concatenate((y_pred.reshape(len(y_pred),1), y_test.reshape(len(y_test),1)),1))"
   ]
  },
  {
   "cell_type": "markdown",
   "metadata": {},
   "source": [
    "# Evaluation\n",
    "\n",
    "## Confusion Matrix"
   ]
  },
  {
   "cell_type": "code",
   "execution_count": 12,
   "metadata": {},
   "outputs": [
    {
     "name": "stdout",
     "output_type": "stream",
     "text": [
      "Confusion matrix, without normalization\n",
      "[[1500   95]\n",
      " [ 190  215]]\n"
     ]
    },
    {
     "data": {
      "image/png": "[encoded data removed]",
      "text/plain": [
       "<Figure size 432x288 with 2 Axes>"
      ]
     },
     "metadata": {
      "needs_background": "light"
     },
     "output_type": "display_data"
    }
   ],
   "source": [
    "cm = confusion_matrix(y_test, y_pred)\n",
    "plot_confusion_matrix(cm, [0, 1])\n",
    "plt.show()"
   ]
  },
  {
   "cell_type": "markdown",
   "metadata": {},
   "source": [
    "## Accuracy score"
   ]
  },
  {
   "cell_type": "code",
   "execution_count": 13,
   "metadata": {},
   "outputs": [
    {
     "name": "stdout",
     "output_type": "stream",
     "text": [
      "Accuracy score: 0.8575\n"
     ]
    }
   ],
   "source": [
    "print('Accuracy score:', accuracy_score(y_test, y_pred))"
   ]
  },
  {
   "cell_type": "markdown",
   "metadata": {},
   "source": [
    "**Breast cancer winscosin dataset**\n",
    "\n",
    "# Step 1"
   ]
  },
  {
   "cell_type": "code",
   "execution_count": 14,
   "metadata": {},
   "outputs": [
    {
     "data": {
      "text/html": [
       "<div>\n",
       "<style scoped>\n",
       "    .dataframe tbody tr th:only-of-type {\n",
       "        vertical-align: middle;\n",
       "    }\n",
       "\n",
       "    .dataframe tbody tr th {\n",
       "        vertical-align: top;\n",
       "    }\n",
       "\n",
       "    .dataframe thead th {\n",
       "        text-align: right;\n",
       "    }\n",
       "</style>\n",
       "<table border=\"1\" class=\"dataframe\">\n",
       "  <thead>\n",
       "    <tr style=\"text-align: right;\">\n",
       "      <th></th>\n",
       "      <th>id</th>\n",
       "      <th>diagnosis</th>\n",
       "      <th>radius_mean</th>\n",
       "      <th>texture_mean</th>\n",
       "      <th>perimeter_mean</th>\n",
       "      <th>area_mean</th>\n",
       "      <th>smoothness_mean</th>\n",
       "      <th>compactness_mean</th>\n",
       "      <th>concavity_mean</th>\n",
       "      <th>concave points_mean</th>\n",
       "      <th>...</th>\n",
       "      <th>texture_worst</th>\n",
       "      <th>perimeter_worst</th>\n",
       "      <th>area_worst</th>\n",
       "      <th>smoothness_worst</th>\n",
       "      <th>compactness_worst</th>\n",
       "      <th>concavity_worst</th>\n",
       "      <th>concave points_worst</th>\n",
       "      <th>symmetry_worst</th>\n",
       "      <th>fractal_dimension_worst</th>\n",
       "      <th>Unnamed: 32</th>\n",
       "    </tr>\n",
       "  </thead>\n",
       "  <tbody>\n",
       "    <tr>\n",
       "      <th>0</th>\n",
       "      <td>842302</td>\n",
       "      <td>M</td>\n",
       "      <td>17.99</td>\n",
       "      <td>10.38</td>\n",
       "      <td>122.80</td>\n",
       "      <td>1001.0</td>\n",
       "      <td>0.11840</td>\n",
       "      <td>0.27760</td>\n",
       "      <td>0.3001</td>\n",
       "      <td>0.14710</td>\n",
       "      <td>...</td>\n",
       "      <td>17.33</td>\n",
       "      <td>184.60</td>\n",
       "      <td>2019.0</td>\n",
       "      <td>0.1622</td>\n",
       "      <td>0.6656</td>\n",
       "      <td>0.7119</td>\n",
       "      <td>0.2654</td>\n",
       "      <td>0.4601</td>\n",
       "      <td>0.11890</td>\n",
       "      <td>NaN</td>\n",
       "    </tr>\n",
       "    <tr>\n",
       "      <th>1</th>\n",
       "      <td>842517</td>\n",
       "      <td>M</td>\n",
       "      <td>20.57</td>\n",
       "      <td>17.77</td>\n",
       "      <td>132.90</td>\n",
       "      <td>1326.0</td>\n",
       "      <td>0.08474</td>\n",
       "      <td>0.07864</td>\n",
       "      <td>0.0869</td>\n",
       "      <td>0.07017</td>\n",
       "      <td>...</td>\n",
       "      <td>23.41</td>\n",
       "      <td>158.80</td>\n",
       "      <td>1956.0</td>\n",
       "      <td>0.1238</td>\n",
       "      <td>0.1866</td>\n",
       "      <td>0.2416</td>\n",
       "      <td>0.1860</td>\n",
       "      <td>0.2750</td>\n",
       "      <td>0.08902</td>\n",
       "      <td>NaN</td>\n",
       "    </tr>\n",
       "    <tr>\n",
       "      <th>2</th>\n",
       "      <td>84300903</td>\n",
       "      <td>M</td>\n",
       "      <td>19.69</td>\n",
       "      <td>21.25</td>\n",
       "      <td>130.00</td>\n",
       "      <td>1203.0</td>\n",
       "      <td>0.10960</td>\n",
       "      <td>0.15990</td>\n",
       "      <td>0.1974</td>\n",
       "      <td>0.12790</td>\n",
       "      <td>...</td>\n",
       "      <td>25.53</td>\n",
       "      <td>152.50</td>\n",
       "      <td>1709.0</td>\n",
       "      <td>0.1444</td>\n",
       "      <td>0.4245</td>\n",
       "      <td>0.4504</td>\n",
       "      <td>0.2430</td>\n",
       "      <td>0.3613</td>\n",
       "      <td>0.08758</td>\n",
       "      <td>NaN</td>\n",
       "    </tr>\n",
       "    <tr>\n",
       "      <th>3</th>\n",
       "      <td>84348301</td>\n",
       "      <td>M</td>\n",
       "      <td>11.42</td>\n",
       "      <td>20.38</td>\n",
       "      <td>77.58</td>\n",
       "      <td>386.1</td>\n",
       "      <td>0.14250</td>\n",
       "      <td>0.28390</td>\n",
       "      <td>0.2414</td>\n",
       "      <td>0.10520</td>\n",
       "      <td>...</td>\n",
       "      <td>26.50</td>\n",
       "      <td>98.87</td>\n",
       "      <td>567.7</td>\n",
       "      <td>0.2098</td>\n",
       "      <td>0.8663</td>\n",
       "      <td>0.6869</td>\n",
       "      <td>0.2575</td>\n",
       "      <td>0.6638</td>\n",
       "      <td>0.17300</td>\n",
       "      <td>NaN</td>\n",
       "    </tr>\n",
       "    <tr>\n",
       "      <th>4</th>\n",
       "      <td>84358402</td>\n",
       "      <td>M</td>\n",
       "      <td>20.29</td>\n",
       "      <td>14.34</td>\n",
       "      <td>135.10</td>\n",
       "      <td>1297.0</td>\n",
       "      <td>0.10030</td>\n",
       "      <td>0.13280</td>\n",
       "      <td>0.1980</td>\n",
       "      <td>0.10430</td>\n",
       "      <td>...</td>\n",
       "      <td>16.67</td>\n",
       "      <td>152.20</td>\n",
       "      <td>1575.0</td>\n",
       "      <td>0.1374</td>\n",
       "      <td>0.2050</td>\n",
       "      <td>0.4000</td>\n",
       "      <td>0.1625</td>\n",
       "      <td>0.2364</td>\n",
       "      <td>0.07678</td>\n",
       "      <td>NaN</td>\n",
       "    </tr>\n",
       "  </tbody>\n",
       "</table>\n",
       "<p>5 rows × 33 columns</p>\n",
       "</div>"
      ],
      "text/plain": [
       "         id diagnosis  radius_mean  texture_mean  perimeter_mean  area_mean  \\\n",
       "0    842302         M        17.99         10.38          122.80     1001.0   \n",
       "1    842517         M        20.57         17.77          132.90     1326.0   \n",
       "2  84300903         M        19.69         21.25          130.00     1203.0   \n",
       "3  84348301         M        11.42         20.38           77.58      386.1   \n",
       "4  84358402         M        20.29         14.34          135.10     1297.0   \n",
       "\n",
       "   smoothness_mean  compactness_mean  concavity_mean  concave points_mean  \\\n",
       "0          0.11840           0.27760          0.3001              0.14710   \n",
       "1          0.08474           0.07864          0.0869              0.07017   \n",
       "2          0.10960           0.15990          0.1974              0.12790   \n",
       "3          0.14250           0.28390          0.2414              0.10520   \n",
       "4          0.10030           0.13280          0.1980              0.10430   \n",
       "\n",
       "   ...  texture_worst  perimeter_worst  area_worst  smoothness_worst  \\\n",
       "0  ...          17.33           184.60      2019.0            0.1622   \n",
       "1  ...          23.41           158.80      1956.0            0.1238   \n",
       "2  ...          25.53           152.50      1709.0            0.1444   \n",
       "3  ...          26.50            98.87       567.7            0.2098   \n",
       "4  ...          16.67           152.20      1575.0            0.1374   \n",
       "\n",
       "   compactness_worst  concavity_worst  concave points_worst  symmetry_worst  \\\n",
       "0             0.6656           0.7119                0.2654          0.4601   \n",
       "1             0.1866           0.2416                0.1860          0.2750   \n",
       "2             0.4245           0.4504                0.2430          0.3613   \n",
       "3             0.8663           0.6869                0.2575          0.6638   \n",
       "4             0.2050           0.4000                0.1625          0.2364   \n",
       "\n",
       "   fractal_dimension_worst  Unnamed: 32  \n",
       "0                  0.11890          NaN  \n",
       "1                  0.08902          NaN  \n",
       "2                  0.08758          NaN  \n",
       "3                  0.17300          NaN  \n",
       "4                  0.07678          NaN  \n",
       "\n",
       "[5 rows x 33 columns]"
      ]
     },
     "execution_count": 14,
     "metadata": {},
     "output_type": "execute_result"
    }
   ],
   "source": [
    "data = pd.read_csv(r'E:\\Jupyterfiles\\ML_practice\\breast_cancer.csv')\n",
    "data.head()"
   ]
  },
  {
   "cell_type": "code",
   "execution_count": 15,
   "metadata": {},
   "outputs": [],
   "source": [
    "X = data.iloc[:, 2:-1].values\n",
    "Y = data.iloc[:, 1].values"
   ]
  },
  {
   "cell_type": "markdown",
   "metadata": {},
   "source": [
    "# Step 2"
   ]
  },
  {
   "cell_type": "code",
   "execution_count": 16,
   "metadata": {},
   "outputs": [
    {
     "name": "stdout",
     "output_type": "stream",
     "text": [
      "[[ 1.09706398 -2.07333501  1.26993369 ...  2.29607613  2.75062224\n",
      "   1.93701461]\n",
      " [ 1.82982061 -0.35363241  1.68595471 ...  1.0870843  -0.24388967\n",
      "   0.28118999]\n",
      " [ 1.57988811  0.45618695  1.56650313 ...  1.95500035  1.152255\n",
      "   0.20139121]\n",
      " ...\n",
      " [ 0.70228425  2.0455738   0.67267578 ...  0.41406869 -1.10454895\n",
      "  -0.31840916]\n",
      " [ 1.83834103  2.33645719  1.98252415 ...  2.28998549  1.91908301\n",
      "   2.21963528]\n",
      " [-1.80840125  1.22179204 -1.81438851 ... -1.74506282 -0.04813821\n",
      "  -0.75120669]]\n"
     ]
    }
   ],
   "source": [
    "sc = StandardScaler()\n",
    "X = sc.fit_transform(X)\n",
    "print(X)"
   ]
  },
  {
   "cell_type": "markdown",
   "metadata": {},
   "source": [
    "# Step 3"
   ]
  },
  {
   "cell_type": "code",
   "execution_count": 17,
   "metadata": {},
   "outputs": [],
   "source": [
    "labelencoder_X_1 = LabelEncoder()\n",
    "y = labelencoder_X_1.fit_transform(Y)"
   ]
  },
  {
   "cell_type": "markdown",
   "metadata": {},
   "source": [
    "# Step 4"
   ]
  },
  {
   "cell_type": "code",
   "execution_count": 18,
   "metadata": {},
   "outputs": [],
   "source": [
    "X_train, X_test, y_train, y_test = train_test_split(X, y, test_size = 0.30, random_state = 0)"
   ]
  },
  {
   "cell_type": "markdown",
   "metadata": {},
   "source": [
    "# Step 5"
   ]
  },
  {
   "cell_type": "code",
   "execution_count": 19,
   "metadata": {},
   "outputs": [],
   "source": [
    "X_train = sc.fit_transform(X_train)\n",
    "X_test = sc.fit_transform(X_test)"
   ]
  },
  {
   "cell_type": "markdown",
   "metadata": {},
   "source": [
    "# Step 6"
   ]
  },
  {
   "cell_type": "code",
   "execution_count": 20,
   "metadata": {},
   "outputs": [
    {
     "name": "stderr",
     "output_type": "stream",
     "text": [
      "Using TensorFlow backend.\n"
     ]
    }
   ],
   "source": [
    "import keras\n",
    "\n",
    "from keras.models import Sequential\n",
    "from keras.layers import Dense, Dropout"
   ]
  },
  {
   "cell_type": "code",
   "execution_count": 21,
   "metadata": {},
   "outputs": [],
   "source": [
    "# initialising ANN\n",
    "classifier = Sequential()"
   ]
  },
  {
   "cell_type": "code",
   "execution_count": 22,
   "metadata": {},
   "outputs": [],
   "source": [
    "# add input layer and first hidden layer\n",
    "classifier.add(Dense(activation = \"relu\", input_dim = 30, units = 16, kernel_initializer = \"uniform\"))\n",
    "\n",
    "# add dropout to prevent over fitting\n",
    "classifier.add(Dropout(rate = 0.1))"
   ]
  },
  {
   "cell_type": "markdown",
   "metadata": {},
   "source": [
    "# Practical 1"
   ]
  },
  {
   "cell_type": "code",
   "execution_count": 23,
   "metadata": {},
   "outputs": [],
   "source": [
    "# adding second hidden layer\n",
    "classifier.add(Dense(activation = \"relu\", units = 16, kernel_initializer = \"uniform\"))\n",
    "\n",
    "# adding dropout\n",
    "classifier.add(Dropout(rate = 0.1))"
   ]
  },
  {
   "cell_type": "code",
   "execution_count": 24,
   "metadata": {},
   "outputs": [],
   "source": [
    "# adding output layer\n",
    "classifier.add(Dense(activation = \"sigmoid\", units = 1, kernel_initializer = \"uniform\"))"
   ]
  },
  {
   "cell_type": "code",
   "execution_count": 25,
   "metadata": {},
   "outputs": [],
   "source": [
    "# compiling the ANN\n",
    "classifier.compile(optimizer = 'adam', loss = 'binary_crossentropy', metrics = ['accuracy'])"
   ]
  },
  {
   "cell_type": "markdown",
   "metadata": {},
   "source": [
    "# Practical 2"
   ]
  },
  {
   "cell_type": "code",
   "execution_count": 26,
   "metadata": {},
   "outputs": [
    {
     "name": "stdout",
     "output_type": "stream",
     "text": [
      "Epoch 1/10\n",
      "398/398 [==============================] - 0s 473us/step - loss: 0.6928 - accuracy: 0.5578\n",
      "Epoch 2/10\n",
      "398/398 [==============================] - 0s 13us/step - loss: 0.6914 - accuracy: 0.6457\n",
      "Epoch 3/10\n",
      "398/398 [==============================] - 0s 15us/step - loss: 0.6897 - accuracy: 0.6533\n",
      "Epoch 4/10\n",
      "398/398 [==============================] - 0s 15us/step - loss: 0.6875 - accuracy: 0.6734\n",
      "Epoch 5/10\n",
      "398/398 [==============================] - 0s 13us/step - loss: 0.6844 - accuracy: 0.7010\n",
      "Epoch 6/10\n",
      "398/398 [==============================] - 0s 13us/step - loss: 0.6799 - accuracy: 0.7412\n",
      "Epoch 7/10\n",
      "398/398 [==============================] - 0s 15us/step - loss: 0.6738 - accuracy: 0.8015\n",
      "Epoch 8/10\n",
      "398/398 [==============================] - 0s 13us/step - loss: 0.6661 - accuracy: 0.8543\n",
      "Epoch 9/10\n",
      "398/398 [==============================] - 0s 15us/step - loss: 0.6560 - accuracy: 0.8869\n",
      "Epoch 10/10\n",
      "398/398 [==============================] - 0s 13us/step - loss: 0.6420 - accuracy: 0.9095\n"
     ]
    },
    {
     "data": {
      "text/plain": [
       "<keras.callbacks.callbacks.History at 0x17cdcd2f0b8>"
      ]
     },
     "execution_count": 26,
     "metadata": {},
     "output_type": "execute_result"
    }
   ],
   "source": [
    "classifier.fit(X_train, y_train, batch_size = 100, epochs = 10)"
   ]
  },
  {
   "cell_type": "code",
   "execution_count": 27,
   "metadata": {},
   "outputs": [],
   "source": [
    "# predicting test set results\n",
    "y_pred = classifier.predict(X_test)\n",
    "y_pred = (y_pred > 0.5)"
   ]
  },
  {
   "cell_type": "code",
   "execution_count": 28,
   "metadata": {},
   "outputs": [
    {
     "name": "stdout",
     "output_type": "stream",
     "text": [
      "Confusion matrix, without normalization\n",
      "[[103   5]\n",
      " [  9  54]]\n"
     ]
    },
    {
     "data": {
      "image/png": "[encoded data removed]",
      "text/plain": [
       "<Figure size 432x288 with 2 Axes>"
      ]
     },
     "metadata": {
      "needs_background": "light"
     },
     "output_type": "display_data"
    }
   ],
   "source": [
    "# making confusion matrix\n",
    "cm = confusion_matrix(y_test, y_pred)\n",
    "plot_confusion_matrix(cm, [0, 1])\n",
    "plt.show()"
   ]
  },
  {
   "cell_type": "code",
   "execution_count": 29,
   "metadata": {},
   "outputs": [
    {
     "name": "stdout",
     "output_type": "stream",
     "text": [
      "Accuracy:  0.9181286549707602\n"
     ]
    }
   ],
   "source": [
    "# accuracy score\n",
    "print('Accuracy: ', accuracy_score(y_test, y_pred))"
   ]
  },
  {
   "cell_type": "markdown",
   "metadata": {},
   "source": [
    "# Practical 3"
   ]
  },
  {
   "cell_type": "code",
   "execution_count": 30,
   "metadata": {},
   "outputs": [
    {
     "name": "stdout",
     "output_type": "stream",
     "text": [
      "Epoch 1/50\n",
      "398/398 [==============================] - 0s 13us/step - loss: 0.6265 - accuracy: 0.9271\n",
      "Epoch 2/50\n",
      "398/398 [==============================] - 0s 15us/step - loss: 0.6069 - accuracy: 0.9296\n",
      "Epoch 3/50\n",
      "398/398 [==============================] - 0s 13us/step - loss: 0.5831 - accuracy: 0.9397\n",
      "Epoch 4/50\n",
      "398/398 [==============================] - 0s 12us/step - loss: 0.5556 - accuracy: 0.9397\n",
      "Epoch 5/50\n",
      "398/398 [==============================] - 0s 13us/step - loss: 0.5249 - accuracy: 0.9422\n",
      "Epoch 6/50\n",
      "398/398 [==============================] - 0s 13us/step - loss: 0.4927 - accuracy: 0.9422\n",
      "Epoch 7/50\n",
      "398/398 [==============================] - 0s 15us/step - loss: 0.4574 - accuracy: 0.9497\n",
      "Epoch 8/50\n",
      "398/398 [==============================] - 0s 13us/step - loss: 0.4207 - accuracy: 0.9497\n",
      "Epoch 9/50\n",
      "398/398 [==============================] - 0s 13us/step - loss: 0.3866 - accuracy: 0.9497\n",
      "Epoch 10/50\n",
      "398/398 [==============================] - 0s 15us/step - loss: 0.3513 - accuracy: 0.9523\n",
      "Epoch 11/50\n",
      "398/398 [==============================] - 0s 13us/step - loss: 0.3225 - accuracy: 0.9523\n",
      "Epoch 12/50\n",
      "398/398 [==============================] - 0s 15us/step - loss: 0.2936 - accuracy: 0.9523\n",
      "Epoch 13/50\n",
      "398/398 [==============================] - 0s 13us/step - loss: 0.2665 - accuracy: 0.9573\n",
      "Epoch 14/50\n",
      "398/398 [==============================] - 0s 15us/step - loss: 0.2440 - accuracy: 0.9598\n",
      "Epoch 15/50\n",
      "398/398 [==============================] - 0s 13us/step - loss: 0.2230 - accuracy: 0.9623\n",
      "Epoch 16/50\n",
      "398/398 [==============================] - 0s 13us/step - loss: 0.2043 - accuracy: 0.9648\n",
      "Epoch 17/50\n",
      "398/398 [==============================] - 0s 15us/step - loss: 0.1913 - accuracy: 0.9648\n",
      "Epoch 18/50\n",
      "398/398 [==============================] - 0s 13us/step - loss: 0.1780 - accuracy: 0.9648\n",
      "Epoch 19/50\n",
      "398/398 [==============================] - 0s 15us/step - loss: 0.1727 - accuracy: 0.9673\n",
      "Epoch 20/50\n",
      "398/398 [==============================] - 0s 15us/step - loss: 0.1584 - accuracy: 0.9698\n",
      "Epoch 21/50\n",
      "398/398 [==============================] - 0s 10us/step - loss: 0.1489 - accuracy: 0.9724\n",
      "Epoch 22/50\n",
      "398/398 [==============================] - 0s 13us/step - loss: 0.1390 - accuracy: 0.9698\n",
      "Epoch 23/50\n",
      "398/398 [==============================] - 0s 13us/step - loss: 0.1324 - accuracy: 0.9749\n",
      "Epoch 24/50\n",
      "398/398 [==============================] - 0s 15us/step - loss: 0.1253 - accuracy: 0.9774\n",
      "Epoch 25/50\n",
      "398/398 [==============================] - 0s 15us/step - loss: 0.1220 - accuracy: 0.9749\n",
      "Epoch 26/50\n",
      "398/398 [==============================] - 0s 13us/step - loss: 0.1177 - accuracy: 0.9749\n",
      "Epoch 27/50\n",
      "398/398 [==============================] - 0s 13us/step - loss: 0.1077 - accuracy: 0.9774\n",
      "Epoch 28/50\n",
      "398/398 [==============================] - 0s 15us/step - loss: 0.1087 - accuracy: 0.9774\n",
      "Epoch 29/50\n",
      "398/398 [==============================] - 0s 15us/step - loss: 0.1018 - accuracy: 0.9774\n",
      "Epoch 30/50\n",
      "398/398 [==============================] - 0s 15us/step - loss: 0.1010 - accuracy: 0.9774\n",
      "Epoch 31/50\n",
      "398/398 [==============================] - 0s 15us/step - loss: 0.1051 - accuracy: 0.9749\n",
      "Epoch 32/50\n",
      "398/398 [==============================] - 0s 13us/step - loss: 0.0988 - accuracy: 0.9749\n",
      "Epoch 33/50\n",
      "398/398 [==============================] - 0s 10us/step - loss: 0.0907 - accuracy: 0.9799\n",
      "Epoch 34/50\n",
      "398/398 [==============================] - 0s 13us/step - loss: 0.0933 - accuracy: 0.9774\n",
      "Epoch 35/50\n",
      "398/398 [==============================] - 0s 13us/step - loss: 0.0889 - accuracy: 0.9774\n",
      "Epoch 36/50\n",
      "398/398 [==============================] - 0s 15us/step - loss: 0.0859 - accuracy: 0.9799\n",
      "Epoch 37/50\n",
      "398/398 [==============================] - 0s 13us/step - loss: 0.0839 - accuracy: 0.9799\n",
      "Epoch 38/50\n",
      "398/398 [==============================] - 0s 13us/step - loss: 0.0855 - accuracy: 0.9824\n",
      "Epoch 39/50\n",
      "398/398 [==============================] - 0s 13us/step - loss: 0.0824 - accuracy: 0.9799\n",
      "Epoch 40/50\n",
      "398/398 [==============================] - 0s 13us/step - loss: 0.0786 - accuracy: 0.9799\n",
      "Epoch 41/50\n",
      "398/398 [==============================] - 0s 15us/step - loss: 0.0846 - accuracy: 0.9799\n",
      "Epoch 42/50\n",
      "398/398 [==============================] - 0s 13us/step - loss: 0.0748 - accuracy: 0.9799\n",
      "Epoch 43/50\n",
      "398/398 [==============================] - 0s 15us/step - loss: 0.0752 - accuracy: 0.9824\n",
      "Epoch 44/50\n",
      "398/398 [==============================] - 0s 13us/step - loss: 0.0777 - accuracy: 0.9824\n",
      "Epoch 45/50\n",
      "398/398 [==============================] - 0s 13us/step - loss: 0.0760 - accuracy: 0.9824\n",
      "Epoch 46/50\n",
      "398/398 [==============================] - 0s 12us/step - loss: 0.0762 - accuracy: 0.9799\n",
      "Epoch 47/50\n",
      "398/398 [==============================] - 0s 13us/step - loss: 0.0747 - accuracy: 0.9824\n",
      "Epoch 48/50\n",
      "398/398 [==============================] - 0s 15us/step - loss: 0.0718 - accuracy: 0.9824\n",
      "Epoch 49/50\n",
      "398/398 [==============================] - 0s 15us/step - loss: 0.0637 - accuracy: 0.9824\n",
      "Epoch 50/50\n",
      "398/398 [==============================] - 0s 13us/step - loss: 0.0682 - accuracy: 0.9824\n"
     ]
    },
    {
     "data": {
      "text/plain": [
       "<keras.callbacks.callbacks.History at 0x17cde2f84e0>"
      ]
     },
     "execution_count": 30,
     "metadata": {},
     "output_type": "execute_result"
    }
   ],
   "source": [
    "classifier.fit(X_train, y_train, batch_size = 100, epochs = 50)"
   ]
  },
  {
   "cell_type": "code",
   "execution_count": 31,
   "metadata": {},
   "outputs": [],
   "source": [
    "# predicting test set results\n",
    "y_pred = classifier.predict(X_test)\n",
    "y_pred = (y_pred > 0.5)"
   ]
  },
  {
   "cell_type": "code",
   "execution_count": 32,
   "metadata": {},
   "outputs": [
    {
     "name": "stdout",
     "output_type": "stream",
     "text": [
      "Confusion matrix, without normalization\n",
      "[[104   4]\n",
      " [  2  61]]\n"
     ]
    },
    {
     "data": {
      "image/png": "[encoded data removed]",
      "text/plain": [
       "<Figure size 432x288 with 2 Axes>"
      ]
     },
     "metadata": {
      "needs_background": "light"
     },
     "output_type": "display_data"
    }
   ],
   "source": [
    "# making confusion matrix\n",
    "cm = confusion_matrix(y_test, y_pred)\n",
    "plot_confusion_matrix(cm, [0, 1])\n",
    "plt.show()"
   ]
  },
  {
   "cell_type": "code",
   "execution_count": 33,
   "metadata": {},
   "outputs": [
    {
     "name": "stdout",
     "output_type": "stream",
     "text": [
      "Accuracy:  0.9649122807017544\n"
     ]
    }
   ],
   "source": [
    "# accuracy score\n",
    "print('Accuracy: ', accuracy_score(y_test, y_pred))"
   ]
  },
  {
   "cell_type": "markdown",
   "metadata": {},
   "source": [
    "# Practical 4"
   ]
  },
  {
   "cell_type": "code",
   "execution_count": 34,
   "metadata": {},
   "outputs": [
    {
     "name": "stdout",
     "output_type": "stream",
     "text": [
      "Epoch 1/100\n",
      "398/398 [==============================] - 0s 15us/step - loss: 0.0674 - accuracy: 0.9824\n",
      "Epoch 2/100\n",
      "398/398 [==============================] - 0s 18us/step - loss: 0.0692 - accuracy: 0.9849\n",
      "Epoch 3/100\n",
      "398/398 [==============================] - 0s 15us/step - loss: 0.0703 - accuracy: 0.9874\n",
      "Epoch 4/100\n",
      "398/398 [==============================] - 0s 15us/step - loss: 0.0669 - accuracy: 0.9849\n",
      "Epoch 5/100\n",
      "398/398 [==============================] - 0s 15us/step - loss: 0.0635 - accuracy: 0.9849\n",
      "Epoch 6/100\n",
      "398/398 [==============================] - 0s 10us/step - loss: 0.0688 - accuracy: 0.9824\n",
      "Epoch 7/100\n",
      "398/398 [==============================] - 0s 15us/step - loss: 0.0599 - accuracy: 0.9849\n",
      "Epoch 8/100\n",
      "398/398 [==============================] - 0s 13us/step - loss: 0.0636 - accuracy: 0.9824\n",
      "Epoch 9/100\n",
      "398/398 [==============================] - 0s 15us/step - loss: 0.0690 - accuracy: 0.9849\n",
      "Epoch 10/100\n",
      "398/398 [==============================] - 0s 13us/step - loss: 0.0673 - accuracy: 0.9874\n",
      "Epoch 11/100\n",
      "398/398 [==============================] - 0s 13us/step - loss: 0.0673 - accuracy: 0.9849\n",
      "Epoch 12/100\n",
      "398/398 [==============================] - 0s 12us/step - loss: 0.0658 - accuracy: 0.9874\n",
      "Epoch 13/100\n",
      "398/398 [==============================] - 0s 13us/step - loss: 0.0659 - accuracy: 0.9849\n",
      "Epoch 14/100\n",
      "398/398 [==============================] - 0s 15us/step - loss: 0.0618 - accuracy: 0.9874\n",
      "Epoch 15/100\n",
      "398/398 [==============================] - 0s 15us/step - loss: 0.0586 - accuracy: 0.9874\n",
      "Epoch 16/100\n",
      "398/398 [==============================] - 0s 12us/step - loss: 0.0602 - accuracy: 0.9849\n",
      "Epoch 17/100\n",
      "398/398 [==============================] - 0s 12us/step - loss: 0.0617 - accuracy: 0.9874\n",
      "Epoch 18/100\n",
      "398/398 [==============================] - 0s 15us/step - loss: 0.0583 - accuracy: 0.9874\n",
      "Epoch 19/100\n",
      "398/398 [==============================] - 0s 15us/step - loss: 0.0646 - accuracy: 0.9874\n",
      "Epoch 20/100\n",
      "398/398 [==============================] - 0s 15us/step - loss: 0.0588 - accuracy: 0.9849\n",
      "Epoch 21/100\n",
      "398/398 [==============================] - 0s 12us/step - loss: 0.0631 - accuracy: 0.9849\n",
      "Epoch 22/100\n",
      "398/398 [==============================] - 0s 13us/step - loss: 0.0548 - accuracy: 0.9874\n",
      "Epoch 23/100\n",
      "398/398 [==============================] - 0s 10us/step - loss: 0.0626 - accuracy: 0.9849\n",
      "Epoch 24/100\n",
      "398/398 [==============================] - 0s 13us/step - loss: 0.0607 - accuracy: 0.9849\n",
      "Epoch 25/100\n",
      "398/398 [==============================] - 0s 13us/step - loss: 0.0580 - accuracy: 0.9849\n",
      "Epoch 26/100\n",
      "398/398 [==============================] - 0s 12us/step - loss: 0.0568 - accuracy: 0.9849\n",
      "Epoch 27/100\n",
      "398/398 [==============================] - 0s 13us/step - loss: 0.0599 - accuracy: 0.9849\n",
      "Epoch 28/100\n",
      "398/398 [==============================] - 0s 12us/step - loss: 0.0554 - accuracy: 0.9849\n",
      "Epoch 29/100\n",
      "398/398 [==============================] - 0s 15us/step - loss: 0.0545 - accuracy: 0.9874\n",
      "Epoch 30/100\n",
      "398/398 [==============================] - 0s 13us/step - loss: 0.0563 - accuracy: 0.9874\n",
      "Epoch 31/100\n",
      "398/398 [==============================] - 0s 15us/step - loss: 0.0560 - accuracy: 0.9874\n",
      "Epoch 32/100\n",
      "398/398 [==============================] - 0s 13us/step - loss: 0.0539 - accuracy: 0.9874\n",
      "Epoch 33/100\n",
      "398/398 [==============================] - 0s 13us/step - loss: 0.0551 - accuracy: 0.9874\n",
      "Epoch 34/100\n",
      "398/398 [==============================] - 0s 13us/step - loss: 0.0538 - accuracy: 0.9849\n",
      "Epoch 35/100\n",
      "398/398 [==============================] - 0s 15us/step - loss: 0.0562 - accuracy: 0.9874\n",
      "Epoch 36/100\n",
      "398/398 [==============================] - 0s 15us/step - loss: 0.0575 - accuracy: 0.9874\n",
      "Epoch 37/100\n",
      "398/398 [==============================] - 0s 13us/step - loss: 0.0529 - accuracy: 0.9874\n",
      "Epoch 38/100\n",
      "398/398 [==============================] - 0s 15us/step - loss: 0.0571 - accuracy: 0.9874\n",
      "Epoch 39/100\n",
      "398/398 [==============================] - 0s 12us/step - loss: 0.0550 - accuracy: 0.9874\n",
      "Epoch 40/100\n",
      "398/398 [==============================] - 0s 13us/step - loss: 0.0522 - accuracy: 0.9874\n",
      "Epoch 41/100\n",
      "398/398 [==============================] - 0s 15us/step - loss: 0.0518 - accuracy: 0.9874\n",
      "Epoch 42/100\n",
      "398/398 [==============================] - 0s 13us/step - loss: 0.0520 - accuracy: 0.9874\n",
      "Epoch 43/100\n",
      "398/398 [==============================] - 0s 15us/step - loss: 0.0479 - accuracy: 0.9874\n",
      "Epoch 44/100\n",
      "398/398 [==============================] - 0s 13us/step - loss: 0.0524 - accuracy: 0.9874\n",
      "Epoch 45/100\n",
      "398/398 [==============================] - 0s 13us/step - loss: 0.0511 - accuracy: 0.9874\n",
      "Epoch 46/100\n",
      "398/398 [==============================] - 0s 15us/step - loss: 0.0510 - accuracy: 0.9874\n",
      "Epoch 47/100\n",
      "398/398 [==============================] - 0s 13us/step - loss: 0.0473 - accuracy: 0.9874\n",
      "Epoch 48/100\n",
      "398/398 [==============================] - 0s 15us/step - loss: 0.0484 - accuracy: 0.9874\n",
      "Epoch 49/100\n",
      "398/398 [==============================] - 0s 13us/step - loss: 0.0486 - accuracy: 0.9899\n",
      "Epoch 50/100\n",
      "398/398 [==============================] - 0s 15us/step - loss: 0.0472 - accuracy: 0.9899\n",
      "Epoch 51/100\n",
      "398/398 [==============================] - 0s 13us/step - loss: 0.0509 - accuracy: 0.9899\n",
      "Epoch 52/100\n",
      "398/398 [==============================] - 0s 10us/step - loss: 0.0508 - accuracy: 0.9874\n",
      "Epoch 53/100\n",
      "398/398 [==============================] - 0s 15us/step - loss: 0.0508 - accuracy: 0.9899\n",
      "Epoch 54/100\n",
      "398/398 [==============================] - 0s 15us/step - loss: 0.0504 - accuracy: 0.9899\n",
      "Epoch 55/100\n",
      "398/398 [==============================] - 0s 15us/step - loss: 0.0489 - accuracy: 0.9874\n",
      "Epoch 56/100\n",
      "398/398 [==============================] - 0s 13us/step - loss: 0.0484 - accuracy: 0.9899\n",
      "Epoch 57/100\n",
      "398/398 [==============================] - 0s 15us/step - loss: 0.0466 - accuracy: 0.9899\n",
      "Epoch 58/100\n",
      "398/398 [==============================] - 0s 15us/step - loss: 0.0473 - accuracy: 0.9874\n",
      "Epoch 59/100\n",
      "398/398 [==============================] - 0s 13us/step - loss: 0.0442 - accuracy: 0.9874\n",
      "Epoch 60/100\n",
      "398/398 [==============================] - 0s 18us/step - loss: 0.0435 - accuracy: 0.9899\n",
      "Epoch 61/100\n",
      "398/398 [==============================] - 0s 13us/step - loss: 0.0463 - accuracy: 0.9899\n",
      "Epoch 62/100\n",
      "398/398 [==============================] - 0s 15us/step - loss: 0.0465 - accuracy: 0.9874\n",
      "Epoch 63/100\n",
      "398/398 [==============================] - 0s 13us/step - loss: 0.0462 - accuracy: 0.9899\n",
      "Epoch 64/100\n",
      "398/398 [==============================] - 0s 10us/step - loss: 0.0475 - accuracy: 0.9899\n",
      "Epoch 65/100\n",
      "398/398 [==============================] - 0s 15us/step - loss: 0.0484 - accuracy: 0.9899\n",
      "Epoch 66/100\n",
      "398/398 [==============================] - 0s 15us/step - loss: 0.0484 - accuracy: 0.9899\n",
      "Epoch 67/100\n",
      "398/398 [==============================] - 0s 15us/step - loss: 0.0489 - accuracy: 0.9899\n",
      "Epoch 68/100\n",
      "398/398 [==============================] - 0s 13us/step - loss: 0.0448 - accuracy: 0.9899\n",
      "Epoch 69/100\n",
      "398/398 [==============================] - 0s 12us/step - loss: 0.0385 - accuracy: 0.9899\n",
      "Epoch 70/100\n",
      "398/398 [==============================] - 0s 13us/step - loss: 0.0449 - accuracy: 0.9899\n",
      "Epoch 71/100\n",
      "398/398 [==============================] - 0s 13us/step - loss: 0.0450 - accuracy: 0.9899\n",
      "Epoch 72/100\n",
      "398/398 [==============================] - 0s 13us/step - loss: 0.0478 - accuracy: 0.9899\n",
      "Epoch 73/100\n",
      "398/398 [==============================] - 0s 13us/step - loss: 0.0425 - accuracy: 0.9899\n",
      "Epoch 74/100\n",
      "398/398 [==============================] - 0s 10us/step - loss: 0.0456 - accuracy: 0.9899\n",
      "Epoch 75/100\n",
      "398/398 [==============================] - 0s 13us/step - loss: 0.0427 - accuracy: 0.9899\n",
      "Epoch 76/100\n",
      "398/398 [==============================] - 0s 13us/step - loss: 0.0458 - accuracy: 0.9874\n",
      "Epoch 77/100\n",
      "398/398 [==============================] - 0s 15us/step - loss: 0.0409 - accuracy: 0.9899\n",
      "Epoch 78/100\n",
      "398/398 [==============================] - 0s 13us/step - loss: 0.0436 - accuracy: 0.9874\n",
      "Epoch 79/100\n",
      "398/398 [==============================] - 0s 13us/step - loss: 0.0414 - accuracy: 0.9899\n",
      "Epoch 80/100\n",
      "398/398 [==============================] - 0s 13us/step - loss: 0.0438 - accuracy: 0.9899\n",
      "Epoch 81/100\n",
      "398/398 [==============================] - 0s 13us/step - loss: 0.0428 - accuracy: 0.9874\n",
      "Epoch 82/100\n",
      "398/398 [==============================] - 0s 15us/step - loss: 0.0454 - accuracy: 0.9899\n",
      "Epoch 83/100\n",
      "398/398 [==============================] - 0s 13us/step - loss: 0.0402 - accuracy: 0.9899\n",
      "Epoch 84/100\n",
      "398/398 [==============================] - 0s 15us/step - loss: 0.0392 - accuracy: 0.9899\n",
      "Epoch 85/100\n",
      "398/398 [==============================] - 0s 13us/step - loss: 0.0381 - accuracy: 0.9899\n",
      "Epoch 86/100\n",
      "398/398 [==============================] - 0s 10us/step - loss: 0.0398 - accuracy: 0.9899\n",
      "Epoch 87/100\n",
      "398/398 [==============================] - 0s 15us/step - loss: 0.0389 - accuracy: 0.9899\n",
      "Epoch 88/100\n",
      "398/398 [==============================] - 0s 13us/step - loss: 0.0391 - accuracy: 0.9899\n",
      "Epoch 89/100\n",
      "398/398 [==============================] - 0s 13us/step - loss: 0.0422 - accuracy: 0.9899\n",
      "Epoch 90/100\n",
      "398/398 [==============================] - 0s 13us/step - loss: 0.0412 - accuracy: 0.9899\n",
      "Epoch 91/100\n",
      "398/398 [==============================] - 0s 13us/step - loss: 0.0380 - accuracy: 0.9899\n",
      "Epoch 92/100\n",
      "398/398 [==============================] - 0s 15us/step - loss: 0.0377 - accuracy: 0.9899\n",
      "Epoch 93/100\n",
      "398/398 [==============================] - 0s 10us/step - loss: 0.0417 - accuracy: 0.9899\n",
      "Epoch 94/100\n",
      "398/398 [==============================] - 0s 13us/step - loss: 0.0389 - accuracy: 0.9899\n",
      "Epoch 95/100\n",
      "398/398 [==============================] - 0s 13us/step - loss: 0.0386 - accuracy: 0.9899\n",
      "Epoch 96/100\n",
      "398/398 [==============================] - 0s 10us/step - loss: 0.0398 - accuracy: 0.9899\n",
      "Epoch 97/100\n",
      "398/398 [==============================] - 0s 15us/step - loss: 0.0404 - accuracy: 0.9899\n",
      "Epoch 98/100\n",
      "398/398 [==============================] - 0s 13us/step - loss: 0.0385 - accuracy: 0.9899\n",
      "Epoch 99/100\n",
      "398/398 [==============================] - 0s 13us/step - loss: 0.0410 - accuracy: 0.9899\n",
      "Epoch 100/100\n",
      "398/398 [==============================] - 0s 13us/step - loss: 0.0353 - accuracy: 0.9899\n"
     ]
    },
    {
     "data": {
      "text/plain": [
       "<keras.callbacks.callbacks.History at 0x17cde3959e8>"
      ]
     },
     "execution_count": 34,
     "metadata": {},
     "output_type": "execute_result"
    }
   ],
   "source": [
    "classifier.fit(X_train, y_train, batch_size = 100, epochs = 100)"
   ]
  },
  {
   "cell_type": "code",
   "execution_count": 35,
   "metadata": {},
   "outputs": [],
   "source": [
    "# predicting test set results\n",
    "y_pred = classifier.predict(X_test)\n",
    "y_pred = (y_pred > 0.5)"
   ]
  },
  {
   "cell_type": "code",
   "execution_count": 36,
   "metadata": {},
   "outputs": [
    {
     "name": "stdout",
     "output_type": "stream",
     "text": [
      "Confusion matrix, without normalization\n",
      "[[104   4]\n",
      " [  3  60]]\n"
     ]
    },
    {
     "data": {
      "image/png": "[encoded data removed]",
      "text/plain": [
       "<Figure size 432x288 with 2 Axes>"
      ]
     },
     "metadata": {
      "needs_background": "light"
     },
     "output_type": "display_data"
    }
   ],
   "source": [
    "# making confusion matrix\n",
    "cm = confusion_matrix(y_test, y_pred)\n",
    "plot_confusion_matrix(cm, [0, 1])\n",
    "plt.show()"
   ]
  },
  {
   "cell_type": "code",
   "execution_count": 37,
   "metadata": {},
   "outputs": [
    {
     "name": "stdout",
     "output_type": "stream",
     "text": [
      "Accuracy:  0.9590643274853801\n"
     ]
    }
   ],
   "source": [
    "print('Accuracy: ', accuracy_score(y_test, y_pred))"
   ]
  }
 ],
 "metadata": {
  "kernelspec": {
   "display_name": "Python 3",
   "language": "python",
   "name": "python3"
  },
  "language_info": {
   "codemirror_mode": {
    "name": "ipython",
    "version": 3
   },
   "file_extension": ".py",
   "mimetype": "text/x-python",
   "name": "python",
   "nbconvert_exporter": "python",
   "pygments_lexer": "ipython3",
   "version": "3.7.3"
  }
 },
 "nbformat": 4,
 "nbformat_minor": 2
}
